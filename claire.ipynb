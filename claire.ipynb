{
 "cells": [
  {
   "cell_type": "code",
   "execution_count": null,
   "metadata": {},
   "outputs": [
    {
     "ename": "",
     "evalue": "",
     "output_type": "error",
     "traceback": [
      "\u001b[1;31mRunning cells with 'myenv (Python 3.9.19)' requires the ipykernel package.\n",
      "\u001b[1;31mRun the following command to install 'ipykernel' into the Python environment. \n",
      "\u001b[1;31mCommand: 'conda install -n myenv ipykernel --update-deps --force-reinstall'"
     ]
    }
   ],
   "source": [
    "import requests\n",
    "\n",
    "def get_api_version_info():\n",
    "    url = \"https://clinicaltrials.gov/api/v2/version\"\n",
    "    try:\n",
    "        response = requests.get(url)\n",
    "        if response.status_code == 200:\n",
    "            return response.json()\n",
    "        else:\n",
    "            return {\"error\": f\"Failed to get version info, status code: {response.status_code}\"}\n",
    "    except requests.RequestException as e:\n",
    "        return {\"error\": str(e)}\n",
    "\n",
    "# Example usage\n",
    "version_info = get_api_version_info()\n",
    "print(version_info.get('apiVersion'))\n"
   ]
  },
  {
   "cell_type": "code",
   "execution_count": 44,
   "metadata": {},
   "outputs": [
    {
     "name": "stdout",
     "output_type": "stream",
     "text": [
      "Fetched 2 studies.\n",
      "Fetched 2 studies.\n",
      "Fetched 2 studies.\n",
      "Fetched 2 studies.\n",
      "Fetched 2 studies.\n",
      "{'nctId': 'NCT01226589', 'briefTitle': 'Pharmacist Discharge Medication Reconciliation Study', 'organization': 'AHS Cancer Control Alberta', 'statusVerifiedDate': '2011-04', 'overallStatus': 'COMPLETED'}\n",
      "{'nctId': 'NCT02839889', 'briefTitle': 'Tolerability, Safety, and Feasibility of Naloxegol in Patients With Cancer and OIC (Opioid Induced Constipation)', 'organization': 'Hospice of Henderson County, Inc.', 'statusVerifiedDate': '2019-02', 'overallStatus': 'TERMINATED'}\n",
      "{'nctId': 'NCT01498289', 'briefTitle': 'S1201: Combination Chemo for Patients W/Advanced or Metastatic Esophageal, Gastric, or Gastroesophageal Junction Cancer', 'organization': 'SWOG Cancer Research Network', 'statusVerifiedDate': '2019-10', 'overallStatus': 'COMPLETED'}\n",
      "{'nctId': 'NCT00256789', 'briefTitle': 'Once Weekly Radiation for Lung Cancer With Chemotherapy', 'organization': 'Clinical Oncology Research Associates', 'statusVerifiedDate': '2005-11', 'overallStatus': 'COMPLETED'}\n",
      "{'nctId': 'NCT03199989', 'briefTitle': 'Efficacy of Postoperative Adjuvant Chemotherapy for Stage II Colon Cancer With High Risk Factors(EPAC1)', 'organization': 'Peking University Cancer Hospital & Institute', 'statusVerifiedDate': '2020-03', 'overallStatus': 'UNKNOWN'}\n",
      "{'nctId': 'NCT02062489', 'briefTitle': \"Evaluation of Tamoxifen's Efficacy for ER/PR Negative,ER-beta Positive Operable Breast Cancer Patients\", 'organization': 'Sun Yat-Sen Memorial Hospital of Sun Yat-Sen University', 'statusVerifiedDate': '2022-04', 'overallStatus': 'RECRUITING'}\n",
      "{'nctId': 'NCT06429189', 'briefTitle': 'Home-Combo: an Online Home-based Combined Exercise Intervention for Women With Breast Cancer', 'organization': 'Grupo Lusófona', 'statusVerifiedDate': '2024-05', 'overallStatus': 'NOT_YET_RECRUITING'}\n",
      "{'nctId': 'NCT06587789', 'briefTitle': 'Ribociclib in Combination With Adjuvant Endocrine Therapy for Patients With Early High-risk HR+HER2- Breast Cancer', 'organization': 'Second Affiliated Hospital, School of Medicine, Zhejiang University', 'statusVerifiedDate': '2024-07', 'overallStatus': 'RECRUITING'}\n",
      "{'nctId': 'NCT04246489', 'briefTitle': 'Bintrafusp Alfa Monotherapy in Platinum-Experienced Cervical Cancer', 'organization': 'EMD Serono', 'statusVerifiedDate': '2023-09', 'overallStatus': 'COMPLETED'}\n",
      "{'nctId': 'NCT00479089', 'briefTitle': 'Iressa and Taxotere Study in Patients With Metastatic Urothelial Cancer', 'organization': 'M.D. Anderson Cancer Center', 'statusVerifiedDate': '2015-09', 'overallStatus': 'TERMINATED'}\n"
     ]
    }
   ],
   "source": [
    "import requests\n",
    "\n",
    "def fetch_clinical_trials(max_studies=5):\n",
    "    url = \"https://clinicaltrials.gov/api/v2/studies\"\n",
    "    page_token = None\n",
    "    studies = []\n",
    "\n",
    "    headers = {\n",
    "        \"Accept\": \"application/json\"\n",
    "    }\n",
    "\n",
    "    while len(studies) < max_studies:\n",
    "        params = {\n",
    "            \"query.titles\": \"cancer\",\n",
    "            \"pageSize\": int(2), # number of studies returned per page\n",
    "            \"pageToken\": page_token,\n",
    "            \"format\": \"json\",\n",
    "            \"markupFormat\": \"markdown\"\n",
    "        }\n",
    "\n",
    "        response = requests.get(url, headers=headers, params=params)\n",
    "\n",
    "        if response.status_code != 200:\n",
    "            print(f\"Error: Received status code {response.status_code}\")\n",
    "            print(\"Response content:\", response.text)\n",
    "            break\n",
    "\n",
    "        try:\n",
    "            data = response.json()\n",
    "            print(f\"Fetched {len(data.get('studies', []))} studies.\")\n",
    "        except requests.JSONDecodeError:\n",
    "            print(\"Failed to decode JSON. Response was:\", response.text)\n",
    "            break\n",
    "\n",
    "        # Process the response data if JSON decoding is successful\n",
    "        for study in data.get(\"studies\", []):\n",
    "            if len(studies) >= max_studies:\n",
    "                break\n",
    "\n",
    "            study_info = {\n",
    "                \"nctId\": study[\"protocolSection\"][\"identificationModule\"][\"nctId\"],\n",
    "                \"briefTitle\": study[\"protocolSection\"][\"identificationModule\"][\"briefTitle\"],\n",
    "                \"organization\": study[\"protocolSection\"][\"identificationModule\"][\"organization\"][\"fullName\"],\n",
    "                \"statusVerifiedDate\": study[\"protocolSection\"][\"statusModule\"][\"statusVerifiedDate\"],\n",
    "                \"overallStatus\": study[\"protocolSection\"][\"statusModule\"][\"overallStatus\"],\n",
    "            }\n",
    "            studies.append(study_info)\n",
    "\n",
    "        # Check for nextPageToken to continue pagination\n",
    "        page_token = data.get(\"nextPageToken\")\n",
    "        if not page_token:\n",
    "            break\n",
    "\n",
    "    return studies\n",
    "\n",
    "# Example call to test functionality\n",
    "results = fetch_clinical_trials(max_studies=10)\n",
    "for study in results:\n",
    "    print(study)\n"
   ]
  },
  {
   "cell_type": "code",
   "execution_count": 49,
   "metadata": {},
   "outputs": [
    {
     "ename": "FileNotFoundError",
     "evalue": "[Errno 2] No such file or directory: 'dukeai-103f8-369df2b50aa4.json'",
     "output_type": "error",
     "traceback": [
      "\u001b[0;31m---------------------------------------------------------------------------\u001b[0m",
      "\u001b[0;31mFileNotFoundError\u001b[0m                         Traceback (most recent call last)",
      "Cell \u001b[0;32mIn[49], line 4\u001b[0m\n\u001b[1;32m      1\u001b[0m \u001b[38;5;28;01mimport\u001b[39;00m \u001b[38;5;21;01mfirebase_admin\u001b[39;00m\n\u001b[1;32m      2\u001b[0m \u001b[38;5;28;01mfrom\u001b[39;00m \u001b[38;5;21;01mfirebase_admin\u001b[39;00m \u001b[38;5;28;01mimport\u001b[39;00m credentials, db\n\u001b[0;32m----> 4\u001b[0m cred \u001b[38;5;241m=\u001b[39m \u001b[43mcredentials\u001b[49m\u001b[38;5;241;43m.\u001b[39;49m\u001b[43mCertificate\u001b[49m\u001b[43m(\u001b[49m\u001b[38;5;124;43m'\u001b[39;49m\u001b[38;5;124;43mdukeai-103f8-369df2b50aa4.json\u001b[39;49m\u001b[38;5;124;43m'\u001b[39;49m\u001b[43m)\u001b[49m\n\u001b[1;32m      5\u001b[0m firebase_admin\u001b[38;5;241m.\u001b[39minitialize_app(cred)\n\u001b[1;32m      7\u001b[0m \u001b[38;5;28;01mdef\u001b[39;00m \u001b[38;5;21mstore_to_firebase\u001b[39m(studies):\n",
      "File \u001b[0;32m/opt/anaconda3/envs/hackathon/lib/python3.10/site-packages/firebase_admin/credentials.py:83\u001b[0m, in \u001b[0;36mCertificate.__init__\u001b[0;34m(self, cert)\u001b[0m\n\u001b[1;32m     81\u001b[0m \u001b[38;5;28msuper\u001b[39m(Certificate, \u001b[38;5;28mself\u001b[39m)\u001b[38;5;241m.\u001b[39m\u001b[38;5;21m__init__\u001b[39m()\n\u001b[1;32m     82\u001b[0m \u001b[38;5;28;01mif\u001b[39;00m _is_file_path(cert):\n\u001b[0;32m---> 83\u001b[0m     \u001b[38;5;28;01mwith\u001b[39;00m \u001b[38;5;28;43mopen\u001b[39;49m\u001b[43m(\u001b[49m\u001b[43mcert\u001b[49m\u001b[43m)\u001b[49m \u001b[38;5;28;01mas\u001b[39;00m json_file:\n\u001b[1;32m     84\u001b[0m         json_data \u001b[38;5;241m=\u001b[39m json\u001b[38;5;241m.\u001b[39mload(json_file)\n\u001b[1;32m     85\u001b[0m \u001b[38;5;28;01melif\u001b[39;00m \u001b[38;5;28misinstance\u001b[39m(cert, \u001b[38;5;28mdict\u001b[39m):\n",
      "\u001b[0;31mFileNotFoundError\u001b[0m: [Errno 2] No such file or directory: 'dukeai-103f8-369df2b50aa4.json'"
     ]
    }
   ],
   "source": [
    "import firebase_admin\n",
    "from firebase_admin import credentials, db\n",
    "\n",
    "cred = credentials.Certificate('dukeai-103f8-369df2b50aa4.json')\n",
    "firebase_admin.initialize_app(cred)\n",
    "\n",
    "def store_to_firebase(studies):\n",
    "    ref = db.reference(\"clinical_trials\")  # Root reference in Firebase Realtime Database\n",
    "    for study in studies:\n",
    "        ref.push(study)  # Push each study as a new child in \"clinical_trials\" node\n",
    "\n",
    "\n",
    "store_to_firebase(results)\n",
    "print(\"Data stored in Firebase successfully.\")"
   ]
  },
  {
   "cell_type": "code",
   "execution_count": null,
   "metadata": {},
   "outputs": [],
   "source": []
  }
 ],
 "metadata": {
  "kernelspec": {
   "display_name": "myenv",
   "language": "python",
   "name": "python3"
  },
  "language_info": {
   "codemirror_mode": {
    "name": "ipython",
    "version": 3
   },
   "file_extension": ".py",
   "mimetype": "text/x-python",
   "name": "python",
   "nbconvert_exporter": "python",
   "pygments_lexer": "ipython3",
   "version": "3.9.19"
  }
 },
 "nbformat": 4,
 "nbformat_minor": 2
}
